{
 "cells": [
  {
   "cell_type": "markdown",
   "metadata": {},
   "source": [
    "# CP SOLVER"
   ]
  },
  {
   "cell_type": "code",
   "execution_count": null,
   "metadata": {
    "collapsed": true
   },
   "outputs": [],
   "source": [
    "from ortools.constraint_solver import pywrapcp\n",
    "solver = pywrapcp.Solver(\"simple_example\")\n",
    "\n",
    "num_vals = 3\n",
    "\n",
    "# the variables\n",
    "x = solver.IntVar(0, num_vals - 1, 'x')\n",
    "y = solver.IntVar(0, num_vals - 1, 'y')\n",
    "z = solver.IntVar(0, num_vals - 1, 'z')\n",
    "\n",
    "# the constraint\n",
    "solver.Add(x != y+1)\n",
    "solver.Add(z != y-1)\n",
    "solver.Add(x != z)\n",
    "\n",
    "decision_builder = solver.Phase([x, y, z], solver.CHOOSE_FIRST_UNBOUND,  solver.ASSIGN_MIN_VALUE)\n",
    "\n",
    "solver.Solve(decision_builder)\n",
    "\n",
    "count = 0\n",
    "\n",
    "while solver.NextSolution():\n",
    "    count += 1\n",
    "    print(\"Solution\", count, '\\n')\n",
    "    print(\"x = \", x.Value())\n",
    "    print(\"y = \", y.Value())\n",
    "    print(\"z = \", z.Value())\n",
    "    print()\n",
    "print(\"Number of solutions:\", count)"
   ]
  },
  {
   "cell_type": "markdown",
   "metadata": {},
   "source": [
    "#### N queens"
   ]
  },
  {
   "cell_type": "code",
   "execution_count": null,
   "metadata": {
    "collapsed": true
   },
   "outputs": [],
   "source": [
    "from ortools.constraint_solver import pywrapcp\n",
    "solver = pywrapcp.Solver(\"n-queens\")\n",
    "solver.TimeLimit(5*1000)\n",
    "\n",
    "board_size = 10\n",
    "\n",
    "queens = [solver.IntVar(0, board_size - 1, \"x%i\" % i) for i in range(board_size)]\n",
    "\n",
    "#constraints\n",
    "  \n",
    "# All rows must be different.\n",
    "solver.Add(solver.AllDifferent(queens))\n",
    "\n",
    "# No two queens can be on the same diagonal.\n",
    "\n",
    "solver.Add(solver.AllDifferent( [queens[i] + i for i in range(board_size)] ))\n",
    "solver.Add(solver.AllDifferent( [queens[i] - i for i in range(board_size)] ))\n",
    "\n",
    "db = solver.Phase(queens,\n",
    "                  solver.CHOOSE_FIRST_UNBOUND,\n",
    "                  solver.ASSIGN_MIN_VALUE)\n",
    "\n",
    "# Add variables to the solution collector.\n",
    "collector = solver.AllSolutionCollector()\n",
    "collector.Add(queens)\n",
    "solver.Solve(db, [collector])"
   ]
  },
  {
   "cell_type": "code",
   "execution_count": null,
   "metadata": {
    "collapsed": true
   },
   "outputs": [],
   "source": [
    "for queen in queens:\n",
    "    print(collector.Value(1,queen))"
   ]
  },
  {
   "cell_type": "markdown",
   "metadata": {},
   "source": [
    "# Integers!"
   ]
  },
  {
   "cell_type": "code",
   "execution_count": null,
   "metadata": {
    "collapsed": true
   },
   "outputs": [],
   "source": [
    "from ortools.linear_solver import pywraplp\n",
    "solver = pywraplp.Solver('SolveIntegerProblem',\n",
    "                         pywraplp.Solver.CBC_MIXED_INTEGER_PROGRAMMING)\n",
    "\n",
    "\n",
    "#OBJ\n",
    "#max: x + 10y\n",
    "\n",
    "#CONS\n",
    "#x + 7 y\t≤\t17.5\n",
    "#x\t≤\t3.5\n",
    "#x\t≥\t0\n",
    "#y\t≥\t0\n",
    "#x, y integers\n",
    "\n",
    "x = solver.IntVar(lb=0, ub=3.5, name='x')\n",
    "y = solver.IntVar(lb=0, ub=solver.infinity(), name='y')\n",
    "\n",
    "con1 = solver.Constraint(-solver.infinity(), 17.5)\n",
    "con1.SetCoefficient(x, 1)\n",
    "con1.SetCoefficient(y, 7)\n",
    "\n",
    "#### the objective function ####\n",
    "objective = solver.Objective()\n",
    "objective.SetCoefficient(x,1)\n",
    "objective.SetCoefficient(y,10)\n",
    "objective.SetMaximization()\n",
    "\n",
    "\n",
    "solver.Solve()\n",
    "\n",
    "assert solver.VerifySolution(1e-7, True)\n",
    "\n",
    "\n",
    "print('x', x.solution_value())\n",
    "print('y', y.solution_value())"
   ]
  }
 ],
 "metadata": {
  "creator": "filipe.gracio",
  "kernelspec": {
   "display_name": "Python [Root]",
   "language": "python",
   "name": "Python [Root]"
  },
  "language_info": {
   "codemirror_mode": {
    "name": "ipython",
    "version": 3
   },
   "file_extension": ".py",
   "mimetype": "text/x-python",
   "name": "python",
   "nbconvert_exporter": "python",
   "pygments_lexer": "ipython3",
   "version": "3.5.3"
  }
 },
 "nbformat": 4,
 "nbformat_minor": 1
}

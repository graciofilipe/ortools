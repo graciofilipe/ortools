{
 "cells": [
  {
   "cell_type": "code",
   "execution_count": 5,
   "metadata": {},
   "outputs": [
    {
     "name": "stdout",
     "output_type": "stream",
     "text": [
      "Total cost: 276\n",
      "Worker 0 assigned to task 1 with cost 76\n",
      "Worker 1 assigned to task 3 with cost 65\n",
      "Worker 2 assigned to task 2 with cost 90\n",
      "Worker 3 assigned to task 0 with cost 45\n"
     ]
    }
   ],
   "source": [
    "from ortools.graph import pywrapgraph\n",
    "import time\n",
    "\n",
    "def conjure_data():\n",
    "  cost = [[90, 76, 75, 'NA'],\n",
    "          [35, 85, 55, 65],\n",
    "          [125, 95, 90, 105],\n",
    "          [45, 110, 95, 115]]\n",
    "  return cost\n",
    "\n",
    "def main():\n",
    "    cost = conjure_data()\n",
    "    n_workers = len(cost)\n",
    "    n_tasks = len(cost[0])\n",
    "    \n",
    "    assignment = pywrapgraph.LinearSumAssignment()\n",
    "    \n",
    "    for worker in range(n_workers):\n",
    "        for task in range(n_tasks):\n",
    "            if cost[worker][task]!='NA':\n",
    "                assignment.AddArcWithCost(worker, task, cost[worker][task])\n",
    "                \n",
    "    solve_status = assignment.Solve()\n",
    "    \n",
    "    print('Total cost:', assignment.OptimalCost())\n",
    "    \n",
    "    for i in range(assignment.NumNodes()):\n",
    "        print('Worker {wrk} assigned to task {tsk} with cost {cst}'.format(\n",
    "        wrk=i, tsk=assignment.RightMate(i), cst=assignment.AssignmentCost(i)))\n",
    "        \n",
    "if __name__ == \"__main__\":\n",
    "    main()\n"
   ]
  },
  {
   "cell_type": "code",
   "execution_count": 14,
   "metadata": {},
   "outputs": [
    {
     "name": "stdout",
     "output_type": "stream",
     "text": [
      "total cost 265\n",
      "Worder 1 assigned to task 8, with cost 70\n",
      "Worder 2 assigned to task 7, with cost 55\n",
      "Worder 3 assigned to task 6, with cost 95\n",
      "Worder 4 assigned to task 5, with cost 45\n"
     ]
    }
   ],
   "source": [
    "from ortools.graph import pywrapgraph\n",
    "\n",
    "def conjure_data():\n",
    "    d = {'start_nodes':[0, 0, 0, 0] + [1, 1, 1, 1, 2, 2, 2, 2, 3, 3, 3, 3, 4, 4, 4, 4] + [5, 6, 7, 8],\n",
    "         'end_nodes':  [1, 2, 3, 4] + [5, 6, 7, 8, 5, 6, 7, 8, 5, 6, 7, 8, 5, 6, 7, 8] + [9, 9, 9, 9],\n",
    "         'capacities': [1, 1, 1, 1] + [1, 1, 1, 1, 1, 1, 1, 1, 1, 1, 1, 1, 1, 1, 1, 1] + [1, 1, 1, 1 ],\n",
    "         'costs':[0, 0, 0, 0] + [90, 76, 75, 70, 35, 85, 55, 65, 125, 95, 90, 105, 45, 110, 95, 115] + [0, 0, 0, 0],\n",
    "         'supplies': [4, 0, 0, 0, 0, 0, 0, 0, 0, -4],\n",
    "         'source': 0,\n",
    "         'sink': 9,\n",
    "         'tasks': 4}\n",
    "    \n",
    "    return(d)\n",
    "\n",
    "def main():\n",
    "    \n",
    "    data = conjure_data()\n",
    "    start_nodes = data['start_nodes']\n",
    "    end_nodes = data['end_nodes']\n",
    "    capacities = data['capacities']\n",
    "    costs = data['costs']\n",
    "    supplies = data['supplies']\n",
    "    source = data['source']\n",
    "    sink = data['sink']\n",
    "    tasks = data['tasks']\n",
    "    n_edges = len(start_nodes)\n",
    "    n_nodes = len(supplies)\n",
    "    \n",
    "    min_cost_flow = pywrapgraph.SimpleMinCostFlow()\n",
    "    \n",
    "    for i in range(n_edges):\n",
    "        min_cost_flow.AddArcWithCapacityAndUnitCost(start_nodes[i], end_nodes[i],\n",
    "                                                  capacities[i], costs[i])\n",
    "        \n",
    "    for i in range(n_nodes):\n",
    "        min_cost_flow.SetNodeSupply(i, supplies[i])\n",
    "        \n",
    "    min_cost_flow.Solve()\n",
    "    print('total cost', min_cost_flow.OptimalCost())\n",
    "    \n",
    "    for arc in range(min_cost_flow.NumArcs()):\n",
    "        if min_cost_flow.Tail(arc)!=source and min_cost_flow.Head(arc)!=sink:\n",
    "            if min_cost_flow.Flow(arc) > 0:\n",
    "                print('Worder {wrk} assigned to task {tsk}, with cost {cst}'.format(\n",
    "                wrk=min_cost_flow.Tail(arc),\n",
    "                tsk=min_cost_flow.Head(arc),\n",
    "                cst=min_cost_flow.UnitCost(arc)))\n",
    "\n",
    "if __name__ == '__main__':\n",
    "    main()            \n",
    "    "
   ]
  },
  {
   "cell_type": "markdown",
   "metadata": {},
   "source": [
    "### with teams"
   ]
  },
  {
   "cell_type": "code",
   "execution_count": 50,
   "metadata": {},
   "outputs": [
    {
     "name": "stdout",
     "output_type": "stream",
     "text": [
      "total cost 250\n",
      "Worker 1 assigned to task 9, with cost 75\n",
      "Worker 2 assigned to task 7, with cost 35\n",
      "Worker 5 assigned to task 10, with cost 75\n",
      "Worker 6 assigned to task 8, with cost 65\n",
      "Time = 2.1380000000004173 miliseconds\n"
     ]
    }
   ],
   "source": [
    "from ortools.graph import pywrapgraph\n",
    "import time\n",
    "\n",
    "def main():\n",
    "    \n",
    "    ## data part\n",
    "    team_A = [1, 3, 5]\n",
    "    team_B = [2, 4, 6]\n",
    "\n",
    "    start_nodes = ([0, 0]  + [11, 11, 11] + [12, 12, 12] +\n",
    "                   [1, 1, 1, 1, 2, 2, 2, 2, 3, 3, 3, 3, 4, 4, 4, 4, 5, 5, 5, 5, 6, 6, 6, 6] +\n",
    "                   [7, 8, 9, 10])\n",
    "    end_nodes =   ([11, 12] + team_A + team_B +\n",
    "                   [7, 8, 9, 10, 7, 8, 9, 10, 7, 8, 9, 10, 7, 8, 9, 10, 7, 8, 9, 10, 7, 8, 9, 10] +\n",
    "                   [13, 13, 13, 13])\n",
    "    capacities =  ([2, 2] + [1, 1, 1] + [1, 1, 1] +\n",
    "                   [1, 1, 1, 1, 1, 1, 1, 1, 1, 1, 1, 1, 1, 1, 1, 1, 1, 1, 1, 1, 1, 1, 1, 1] +\n",
    "                   [1, 1, 1, 1])\n",
    "    costs      =  ([0, 0] + [0, 0, 0] + [0, 0, 0] +\n",
    "                   [90, 76, 75, 70, 35, 85, 55, 65, 125, 95, 90, 105, 45, 110, 95, 115, 60, 105,\n",
    "                    80, 75, 45, 65, 110, 95] + [0, 0, 0, 0])\n",
    "    \n",
    "    # Define an array of supplies at each node.\n",
    "    supplies = [4, 0, 0, 0, 0, 0, 0, 0, 0, 0, 0, 0, 0, -4]\n",
    "    source = 0\n",
    "    sink = 13\n",
    "    n_arcs = len(capacities)\n",
    "    n_nodes = len(supplies)\n",
    "    \n",
    "    mcf = pywrapgraph.SimpleMinCostFlow()\n",
    "    \n",
    "    for i in range(n_arcs):\n",
    "        mcf.AddArcWithCapacityAndUnitCost(start_nodes[i], end_nodes[i],\n",
    "                                         capacities[i], costs[i])\n",
    "\n",
    "    for i in range(n_nodes):\n",
    "        mcf.SetNodeSupply(i, supplies[i])\n",
    "        \n",
    "    mcf.Solve()\n",
    "    print('total cost', mcf.OptimalCost())\n",
    "          \n",
    "    \n",
    "    for arc in range(mcf.NumArcs()):\n",
    "        if mcf.Tail(arc)!=source and mcf.Head(arc)!=sink and mcf.Tail(arc)!=11 and mcf.Tail(arc)!=12:\n",
    "            if mcf.Flow(arc) > 0:\n",
    "                print('Worker {wrk} assigned to task {tsk}, with cost {cst}'.format(\n",
    "                wrk=mcf.Tail(arc),\n",
    "                tsk=mcf.Head(arc),\n",
    "                cst=mcf.UnitCost(arc)))\n",
    "\n",
    "if __name__ == '__main__':\n",
    "    start_time = time.clock()\n",
    "    main()\n",
    "    print(\"Time =\", (time.clock() - start_time)*1000, \"miliseconds\")"
   ]
  },
  {
   "cell_type": "markdown",
   "metadata": {},
   "source": [
    "### Solving as Mix integer programming"
   ]
  },
  {
   "cell_type": "code",
   "execution_count": 47,
   "metadata": {},
   "outputs": [
    {
     "name": "stdout",
     "output_type": "stream",
     "text": [
      "Total cost =  250.0\n",
      "Worker 0 assigned to task 2.  Cost = 75\n",
      "Worker 1 assigned to task 0.  Cost = 35\n",
      "Worker 4 assigned to task 3.  Cost = 75\n",
      "Worker 5 assigned to task 1.  Cost = 65\n",
      "Time =  11  milliseconds\n"
     ]
    }
   ],
   "source": [
    "from ortools.linear_solver import pywraplp\n",
    "\n",
    "def main():\n",
    "       \n",
    "    #data part\n",
    "    cost = [[90, 76, 75, 70],\n",
    "            [35, 85, 55, 65],\n",
    "            [125, 95, 90, 105],\n",
    "            [45, 110, 95, 115],\n",
    "            [60, 105, 80, 75],\n",
    "            [45, 65, 110, 95]]\n",
    "    team1 = [0, 2, 4]\n",
    "    team2 = [1, 3, 5]\n",
    "    team_max = 2\n",
    "    n_workers = len(cost)\n",
    "    n_tasks = len(cost[1])\n",
    "    \n",
    "    solver = pywraplp.Solver('filipe',pywraplp.Solver.CBC_MIXED_INTEGER_PROGRAMMING)\n",
    "    \n",
    "    # the decision variable X - a dictionary of solver boolean variables\n",
    "    x = {}\n",
    "    for wrk in range(n_workers):\n",
    "        for tsk in range(n_tasks):\n",
    "            x[(wrk, tsk)] = solver.BoolVar('x_wrk={wrk}_tsk={tsk}'.format(wrk=wrk, tsk=tsk))\n",
    "    \n",
    "    # build the objective function: \n",
    "    solver.Minimize(solver.Sum([cost[wrk][tsk] * x[(wrk, tsk)] \\\n",
    "                                for wrk in range(n_workers) \\\n",
    "                                for tsk in range(n_tasks) ]))\n",
    "    \n",
    "    \n",
    "    ### Constriants\n",
    "    \n",
    "    # for each wroker the sum of tasks is <= 1\n",
    "    for wrk in range(n_workers):\n",
    "        solver.Add(solver.Sum([x[(wrk, tsk)] for tsk in range(n_tasks)]) <= 1 )\n",
    "    \n",
    "    # each task gets allocated\n",
    "    # for each tasks the sum of the allocation across the workers must be 1\n",
    "    for tsk in range(n_tasks):\n",
    "        solver.Add(solver.Sum([x[(wrk, tsk)] for wrk in range(n_workers)]) == 1 )\n",
    "    \n",
    "    # no more than 2 tasks per team\n",
    "    solver.Add(solver.Sum([x[(wrk, tsk)] for tsk in range(n_tasks) for wrk in team1]) <= team_max )\n",
    "    solver.Add(solver.Sum([x[(wrk, tsk)] for tsk in range(n_tasks) for wrk in team2]) <= team_max )\n",
    "    \n",
    "    sol = solver.Solve()\n",
    "    \n",
    "    print('Total cost = ', solver.Objective().Value())\n",
    "    for wrk in range(n_workers):\n",
    "        for tsk in range(n_tasks):\n",
    "            if x[(wrk, tsk)].solution_value() > 0:\n",
    "                print('Worker {wrk} assigned to task {tsk}.  Cost = {cst}'.format(\n",
    "                    wrk=wrk, tsk=tsk, cst=cost[wrk][tsk]))\n",
    "\n",
    "    print(\"Time = \", solver.WallTime(), \" milliseconds\")\n",
    "    \n",
    "if __name__ == '__main__':\n",
    "    main()\n",
    "    "
   ]
  },
  {
   "cell_type": "code",
   "execution_count": null,
   "metadata": {
    "collapsed": true
   },
   "outputs": [],
   "source": []
  },
  {
   "cell_type": "code",
   "execution_count": null,
   "metadata": {
    "collapsed": true
   },
   "outputs": [],
   "source": []
  }
 ],
 "metadata": {
  "creator": "filipe.gracio",
  "kernelspec": {
   "display_name": "Python [Root]",
   "language": "python",
   "name": "Python [Root]"
  },
  "language_info": {
   "codemirror_mode": {
    "name": "ipython",
    "version": 3
   },
   "file_extension": ".py",
   "mimetype": "text/x-python",
   "name": "python",
   "nbconvert_exporter": "python",
   "pygments_lexer": "ipython3",
   "version": "3.5.3"
  }
 },
 "nbformat": 4,
 "nbformat_minor": 1
}

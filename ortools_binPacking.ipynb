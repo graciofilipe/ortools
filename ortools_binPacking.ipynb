{
 "cells": [
  {
   "cell_type": "code",
   "execution_count": 3,
   "metadata": {},
   "outputs": [
    {
     "name": "stdout",
     "output_type": "stream",
     "text": [
      "Packed items:  [0, 1, 3, 4, 6, 10, 11, 12, 14, 15, 16, 17, 18, 19, 21, 22, 24, 27, 28, 29, 30, 31, 32, 34, 38, 39, 41, 42, 44, 47, 48, 49]\n",
      "Packed weights:  [7, 0, 22, 80, 11, 59, 18, 0, 3, 8, 15, 42, 9, 0, 47, 52, 26, 6, 29, 84, 2, 4, 18, 7, 71, 3, 66, 31, 0, 65, 52, 13]\n",
      "Total value:  7534\n",
      "Total weight:  850\n"
     ]
    }
   ],
   "source": [
    "from ortools.algorithms import pywrapknapsack_solver\n",
    "\n",
    "def main():\n",
    "  # Create the solver.\n",
    "  solver = pywrapknapsack_solver.KnapsackSolver(\n",
    "      pywrapknapsack_solver.KnapsackSolver.\n",
    "      KNAPSACK_MULTIDIMENSION_BRANCH_AND_BOUND_SOLVER,\n",
    "      'test')\n",
    "  values = [360, 83, 59, 130, 431, 67, 230, 52, 93,\n",
    "            125, 670, 892, 600, 38, 48, 147, 78, 256,\n",
    "            63, 17, 120, 164, 432, 35, 92, 110, 22,\n",
    "            42, 50, 323, 514, 28, 87, 73, 78, 15,\n",
    "            26, 78, 210, 36, 85, 189, 274, 43, 33,\n",
    "            10, 19, 389, 276, 312]\n",
    "\n",
    "  weights = [[7, 0, 30, 22, 80, 94, 11, 81, 70,\n",
    "              64, 59, 18, 0, 36, 3, 8, 15, 42,\n",
    "              9, 0, 42, 47, 52, 32, 26, 48, 55,\n",
    "              6, 29, 84, 2, 4, 18, 56, 7, 29,\n",
    "              93, 44, 71, 3, 86, 66, 31, 65, 0,\n",
    "              79, 20, 65, 52, 13]]\n",
    "\n",
    "  capacities = [850]\n",
    "\n",
    "  solver.Init(values, weights, capacities)\n",
    "  computed_value = solver.Solve()\n",
    "\n",
    "  packed_items = [x for x in range(0, len(weights[0]))\n",
    "                  if solver.BestSolutionContains(x)]\n",
    "  packed_weights = [weights[0][i] for i in packed_items]\n",
    "  total_weight= sum(packed_weights)\n",
    "  print(\"Packed items: \", packed_items)\n",
    "  print(\"Packed weights: \", packed_weights)\n",
    "  print(\"Total value: \", computed_value)\n",
    "  print(\"Total weight: \", total_weight)\n",
    "if __name__ == '__main__':\n",
    "  main()"
   ]
  },
  {
   "cell_type": "code",
   "execution_count": null,
   "metadata": {
    "collapsed": true
   },
   "outputs": [],
   "source": []
  },
  {
   "cell_type": "code",
   "execution_count": null,
   "metadata": {
    "collapsed": true
   },
   "outputs": [],
   "source": []
  }
 ],
 "metadata": {
  "creator": "filipe.gracio",
  "kernelspec": {
   "display_name": "Python [Root]",
   "language": "python",
   "name": "Python [Root]"
  },
  "language_info": {
   "codemirror_mode": {
    "name": "ipython",
    "version": 3
   },
   "file_extension": ".py",
   "mimetype": "text/x-python",
   "name": "python",
   "nbconvert_exporter": "python",
   "pygments_lexer": "ipython3",
   "version": "3.5.3"
  }
 },
 "nbformat": 4,
 "nbformat_minor": 1
}

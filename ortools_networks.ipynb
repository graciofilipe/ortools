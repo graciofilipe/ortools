{
 "cells": [
  {
   "cell_type": "code",
   "execution_count": 3,
   "metadata": {},
   "outputs": [
    {
     "name": "stdout",
     "output_type": "stream",
     "text": [
      "  Arc    Flow / Capacity\n",
      "0 -> 1    20  /  20\n",
      "0 -> 2    30  /  30\n",
      "0 -> 3    10  /  10\n",
      "1 -> 2     0  /  40\n",
      "1 -> 4    20  /  30\n",
      "2 -> 3    10  /  10\n",
      "2 -> 4    20  /  20\n",
      "3 -> 2     0  /   5\n",
      "3 -> 4    20  /  20\n",
      "Source side min-cut: [0]\n",
      "Sink side min-cut: [4, 1]\n"
     ]
    }
   ],
   "source": [
    "from ortools.graph import pywrapgraph\n",
    "\n",
    "def conjure_data():\n",
    "    d = {'start_nodes': [0, 0, 0, 1, 1, 2, 2, 3, 3],\n",
    "         'end_nodes': [1, 2, 3, 2, 4, 3, 4, 2, 4],\n",
    "         'capacities': [20, 30, 10, 40, 30, 10, 20, 5, 20]}\n",
    "    return(d)\n",
    "\n",
    "def main():\n",
    "    data = conjure_data()\n",
    "    start_nodes = data['start_nodes']\n",
    "    end_nodes = data['end_nodes']\n",
    "    capacities = data['capacities']\n",
    "    n_arcs = len(capacities)\n",
    "    ## solver\n",
    "    max_flow = pywrapgraph.SimpleMaxFlow()\n",
    "    \n",
    "    #add the arcs\n",
    "    for arc in range(n_arcs):\n",
    "        max_flow.AddArcWithCapacity(start_nodes[arc], end_nodes[arc], capacities[arc])\n",
    "    \n",
    "    max_flow.Solve(0, 4)\n",
    "\n",
    "    print('  Arc    Flow / Capacity')\n",
    "    for i in range(max_flow.NumArcs()):\n",
    "      print('%1s -> %1s   %3s  / %3s' % (\n",
    "          max_flow.Tail(i),\n",
    "          max_flow.Head(i),\n",
    "          max_flow.Flow(i),\n",
    "          max_flow.Capacity(i)))\n",
    "    print('Source side min-cut:', max_flow.GetSourceSideMinCut())\n",
    "    print('Sink side min-cut:', max_flow.GetSinkSideMinCut())\n",
    "\n",
    "if __name__ == '__main__':\n",
    "  main()"
   ]
  },
  {
   "cell_type": "code",
   "execution_count": 6,
   "metadata": {},
   "outputs": [
    {
     "name": "stdout",
     "output_type": "stream",
     "text": [
      "Minimum cost: 150\n",
      "\n",
      "  Arc    Flow / Capacity  Cost\n",
      "0 -> 1    12  /  15        48\n",
      "0 -> 2     8  /   8        32\n",
      "1 -> 2     8  /  20        16\n",
      "1 -> 3     4  /   4         8\n",
      "1 -> 4     0  /  10         0\n",
      "2 -> 3    11  /  15        11\n",
      "2 -> 4     5  /   5        15\n",
      "3 -> 4    10  /  20        20\n",
      "4 -> 2     0  /   4         0\n"
     ]
    }
   ],
   "source": [
    "from ortools.graph import pywrapgraph\n",
    "\n",
    "def conjure_data():\n",
    "    \n",
    "    d = {'start_nodes': [0, 0, 1, 1, 1, 2, 2, 3, 4],\n",
    "         'end_nodes': [1, 2, 2, 3, 4, 3, 4, 4, 2],\n",
    "         'capacities': [15, 8, 20, 4, 10, 15, 5, 20, 4],\n",
    "         'unit_costs': [4, 4, 2, 2, 6, 1, 3, 2, 3],\n",
    "         'supplies': [20, 0, 0, -5, -15]}\n",
    "    return(d)\n",
    "\n",
    "def main():\n",
    "    data = conjure_data()\n",
    "    start_nodes = data['start_nodes']\n",
    "    end_nodes = data['end_nodes']\n",
    "    edge_capacities = data['capacities']\n",
    "    edge_unit_cost = data['unit_costs']\n",
    "    node_supplies = data['supplies']\n",
    "    n_edges = len(edge_capacities)\n",
    "    n_nodes = len(node_supplies)\n",
    "    \n",
    "    min_cost_flow = pywrapgraph.SimpleMinCostFlow()\n",
    "    \n",
    "    for i in range(n_edges):\n",
    "        min_cost_flow.AddArcWithCapacityAndUnitCost(start_nodes[i],\n",
    "                                                    end_nodes[i],\n",
    "                                                    edge_capacities[i],\n",
    "                                                    edge_unit_cost[i])\n",
    "    for i in range(n_nodes):\n",
    "        min_cost_flow.SetNodeSupply(i, node_supplies[i])\n",
    "        \n",
    "    min_cost_flow.Solve()\n",
    "    \n",
    "    print('Minimum cost:', min_cost_flow.OptimalCost())\n",
    "    print('')\n",
    "    print('  Arc    Flow / Capacity  Cost')\n",
    "    for i in range(min_cost_flow.NumArcs()):\n",
    "        cost = min_cost_flow.Flow(i) * min_cost_flow.UnitCost(i)\n",
    "        print('%1s -> %1s   %3s  / %3s       %3s' % (\n",
    "            min_cost_flow.Tail(i),\n",
    "            min_cost_flow.Head(i),\n",
    "            min_cost_flow.Flow(i),\n",
    "            min_cost_flow.Capacity(i),\n",
    "            cost))\n",
    "\n",
    "if __name__ == '__main__':\n",
    "  main()"
   ]
  }
 ],
 "metadata": {
  "creator": "filipe.gracio",
  "kernelspec": {
   "display_name": "Python [Root]",
   "language": "python",
   "name": "Python [Root]"
  },
  "language_info": {
   "codemirror_mode": {
    "name": "ipython",
    "version": 3
   },
   "file_extension": ".py",
   "mimetype": "text/x-python",
   "name": "python",
   "nbconvert_exporter": "python",
   "pygments_lexer": "ipython3",
   "version": "3.5.3"
  }
 },
 "nbformat": 4,
 "nbformat_minor": 1
}
